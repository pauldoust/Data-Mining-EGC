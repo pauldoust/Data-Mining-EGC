{
 "cells": [
  {
   "cell_type": "markdown",
   "metadata": {
    "colab_type": "text",
    "id": "Fs9D3wI5IRnP"
   },
   "source": [
    "**Instructions**: The dataset is stored in google drive of one of our team members. [Doesn't require login if working in Google colab.]\n",
    "If you are working on locally stored, data. Change the filepath below."
   ]
  },
  {
   "cell_type": "code",
   "execution_count": 0,
   "metadata": {
    "colab": {},
    "colab_type": "code",
    "id": "eHne-CMfIdGN"
   },
   "outputs": [],
   "source": [
    "import sys\n",
    "colab = 'google.colab' in sys.modules"
   ]
  },
  {
   "cell_type": "code",
   "execution_count": null,
   "metadata": {
    "colab": {
     "base_uri": "https://localhost:8080/",
     "height": 374
    },
    "colab_type": "code",
    "id": "yd50yUa5Ilwd",
    "outputId": "31e72b61-876b-4458-92e4-68d8b494d643"
   },
   "outputs": [],
   "source": []
  },
  {
   "cell_type": "code",
   "execution_count": 0,
   "metadata": {
    "colab": {},
    "colab_type": "code",
    "id": "biYpipBxJDH2"
   },
   "outputs": [],
   "source": []
  },
  {
   "cell_type": "code",
   "execution_count": 0,
   "metadata": {
    "colab": {
     "base_uri": "https://localhost:8080/",
     "height": 289
    },
    "colab_type": "code",
    "id": "RUW1EtpjIroL",
    "outputId": "d339582e-39b9-4bda-b8b4-dbc280c803fd"
   },
   "outputs": [
    {
     "data": {
      "text/html": [
       "<div>\n",
       "<style scoped>\n",
       "    .dataframe tbody tr th:only-of-type {\n",
       "        vertical-align: middle;\n",
       "    }\n",
       "\n",
       "    .dataframe tbody tr th {\n",
       "        vertical-align: top;\n",
       "    }\n",
       "\n",
       "    .dataframe thead th {\n",
       "        text-align: right;\n",
       "    }\n",
       "</style>\n",
       "<table border=\"1\" class=\"dataframe\">\n",
       "  <thead>\n",
       "    <tr style=\"text-align: right;\">\n",
       "      <th></th>\n",
       "      <th>series</th>\n",
       "      <th>booktitle</th>\n",
       "      <th>year</th>\n",
       "      <th>title</th>\n",
       "      <th>abstract</th>\n",
       "      <th>authors</th>\n",
       "      <th>pdf1page</th>\n",
       "      <th>pdfarticle</th>\n",
       "    </tr>\n",
       "  </thead>\n",
       "  <tbody>\n",
       "    <tr>\n",
       "      <th>0</th>\n",
       "      <td>Revue des Nouvelles Technologies de l'Information</td>\n",
       "      <td>EGC</td>\n",
       "      <td>2018</td>\n",
       "      <td>#Idéo2017 : une plateforme citoyenne dédiée à ...</td>\n",
       "      <td>Cette plateforme a pour objectif de permettre ...</td>\n",
       "      <td>Claudia Marinica, Julien Longhi, Nader Hassine...</td>\n",
       "      <td>http://editions-rnti.fr/render_pdf.php?p1&amp;p=10...</td>\n",
       "      <td>http://editions-rnti.fr/render_pdf.php?p=1002425</td>\n",
       "    </tr>\n",
       "    <tr>\n",
       "      <th>1</th>\n",
       "      <td>Revue des Nouvelles Technologies de l'Information</td>\n",
       "      <td>EGC</td>\n",
       "      <td>2018</td>\n",
       "      <td>A two level co-clustering algorithm for very l...</td>\n",
       "      <td>La classification croisée (co-clustering) est ...</td>\n",
       "      <td>Marius Barctus, Marc Boullé, Fabrice Clérot</td>\n",
       "      <td>http://editions-rnti.fr/render_pdf.php?p1&amp;p=10...</td>\n",
       "      <td>http://editions-rnti.fr/render_pdf.php?p=1002372</td>\n",
       "    </tr>\n",
       "    <tr>\n",
       "      <th>2</th>\n",
       "      <td>Revue des Nouvelles Technologies de l'Information</td>\n",
       "      <td>EGC</td>\n",
       "      <td>2018</td>\n",
       "      <td>ALGeoSPF: Un modèle de factorisation basé sur ...</td>\n",
       "      <td>La recommandation de points d'intérêts est dev...</td>\n",
       "      <td>Jean-Benoît Griesner, Talel Abdesssalem, Huber...</td>\n",
       "      <td>http://editions-rnti.fr/render_pdf.php?p1&amp;p=10...</td>\n",
       "      <td>http://editions-rnti.fr/render_pdf.php?p=1002380</td>\n",
       "    </tr>\n",
       "    <tr>\n",
       "      <th>3</th>\n",
       "      <td>Revue des Nouvelles Technologies de l'Information</td>\n",
       "      <td>EGC</td>\n",
       "      <td>2018</td>\n",
       "      <td>Analyse des sentiments à partir des commentair...</td>\n",
       "      <td>L'analyse des sentiments est un processus pend...</td>\n",
       "      <td>Abdeljalil Elouardighi, Mohcine Maghfour, Hafd...</td>\n",
       "      <td>http://editions-rnti.fr/render_pdf.php?p1&amp;p=10...</td>\n",
       "      <td>http://editions-rnti.fr/render_pdf.php?p=1002397</td>\n",
       "    </tr>\n",
       "    <tr>\n",
       "      <th>4</th>\n",
       "      <td>Revue des Nouvelles Technologies de l'Information</td>\n",
       "      <td>EGC</td>\n",
       "      <td>2018</td>\n",
       "      <td>Analyse en rôles sémantiques pour le résumé au...</td>\n",
       "      <td>Cet article présente une approche visant à ext...</td>\n",
       "      <td>Elyase Lassouli, Yasmine Mesbahi, Camille Prad...</td>\n",
       "      <td>http://editions-rnti.fr/render_pdf.php?p1&amp;p=10...</td>\n",
       "      <td>http://editions-rnti.fr/render_pdf.php?p=1002384</td>\n",
       "    </tr>\n",
       "  </tbody>\n",
       "</table>\n",
       "</div>"
      ],
      "text/plain": [
       "                                              series  ...                                        pdfarticle\n",
       "0  Revue des Nouvelles Technologies de l'Information  ...  http://editions-rnti.fr/render_pdf.php?p=1002425\n",
       "1  Revue des Nouvelles Technologies de l'Information  ...  http://editions-rnti.fr/render_pdf.php?p=1002372\n",
       "2  Revue des Nouvelles Technologies de l'Information  ...  http://editions-rnti.fr/render_pdf.php?p=1002380\n",
       "3  Revue des Nouvelles Technologies de l'Information  ...  http://editions-rnti.fr/render_pdf.php?p=1002397\n",
       "4  Revue des Nouvelles Technologies de l'Information  ...  http://editions-rnti.fr/render_pdf.php?p=1002384\n",
       "\n",
       "[5 rows x 8 columns]"
      ]
     },
     "execution_count": 3,
     "metadata": {
      "tags": []
     },
     "output_type": "execute_result"
    }
   ],
   "source": [
    "# Load data\n",
    "path = \"/content/EGC_dataset.csv\"\n",
    "\n",
    "import pandas as pd\n",
    "df = pd.read_csv(path)\n",
    "df.head()"
   ]
  },
  {
   "cell_type": "code",
   "execution_count": 0,
   "metadata": {
    "colab": {
     "base_uri": "https://localhost:8080/",
     "height": 102
    },
    "colab_type": "code",
    "id": "DwxHI-pRJIwl",
    "outputId": "0b9f8cdf-c011-4faa-9702-4cf36fc5178b"
   },
   "outputs": [
    {
     "name": "stdout",
     "output_type": "stream",
     "text": [
      "Data size: (1269, 8) \n",
      "\n",
      "Columns: Index(['series', 'booktitle', 'year', 'title', 'abstract', 'authors',\n",
      "       'pdf1page', 'pdfarticle'],\n",
      "      dtype='object')\n"
     ]
    }
   ],
   "source": [
    "list_col = df.columns\n",
    "print('Data size:', df.shape, '\\n')\n",
    "print('Columns:',list_col)"
   ]
  },
  {
   "cell_type": "code",
   "execution_count": 0,
   "metadata": {
    "colab": {
     "base_uri": "https://localhost:8080/",
     "height": 68
    },
    "colab_type": "code",
    "id": "Eih6zc2eJZaF",
    "outputId": "9ba60c72-9b4a-4f58-c47d-a547b282adc0"
   },
   "outputs": [
    {
     "name": "stdout",
     "output_type": "stream",
     "text": [
      "# samples with no title : 0\n",
      "# samples with no abstract : 173\n",
      "# samples with no authors : 0\n"
     ]
    }
   ],
   "source": [
    "# Check for empty data\n",
    "import numpy as np\n",
    "\n",
    "cols_to_check = ['title','abstract','authors']\n",
    "for i in cols_to_check:\n",
    "  index_missing = np.where(df.isnull()[i])\n",
    "  print('# samples with no', i, ':', len(index_missing[0]))"
   ]
  },
  {
   "cell_type": "markdown",
   "metadata": {
    "colab_type": "text",
    "id": "Fe9JRwG8LUvn"
   },
   "source": [
    "**173 samples have no abstracts** "
   ]
  },
  {
   "cell_type": "code",
   "execution_count": 0,
   "metadata": {
    "colab": {},
    "colab_type": "code",
    "id": "BFE7Kc6xKaFh"
   },
   "outputs": [],
   "source": [
    "# Create a seperate dataset removing these rows\n",
    "df1 = df.copy()\n",
    "get_missing_index = np.where(df.isnull()['abstract'])[0]\n",
    "df1 = df1.drop(get_missing_index)"
   ]
  },
  {
   "cell_type": "code",
   "execution_count": 0,
   "metadata": {
    "colab": {
     "base_uri": "https://localhost:8080/",
     "height": 34
    },
    "colab_type": "code",
    "id": "qMU2MrtYMAVI",
    "outputId": "253a5305-372f-42b9-d97a-fcd57ba3b0e1"
   },
   "outputs": [
    {
     "name": "stdout",
     "output_type": "stream",
     "text": [
      "Sample size: (1096, 8)\n"
     ]
    }
   ],
   "source": [
    "print('Sample size:', df1.shape)"
   ]
  },
  {
   "cell_type": "markdown",
   "metadata": {
    "colab_type": "text",
    "id": "3xfdZFBgMZag"
   },
   "source": [
    "**Understand data**"
   ]
  },
  {
   "cell_type": "markdown",
   "metadata": {
    "colab_type": "text",
    "id": "tOvtZyV5MdNY"
   },
   "source": [
    "**Timeline**"
   ]
  },
  {
   "cell_type": "code",
   "execution_count": 0,
   "metadata": {
    "colab": {
     "base_uri": "https://localhost:8080/",
     "height": 51
    },
    "colab_type": "code",
    "id": "s69wn8xxMLEO",
    "outputId": "e634a661-7f98-4fb0-f87a-4e8ea7b398c6"
   },
   "outputs": [
    {
     "name": "stdout",
     "output_type": "stream",
     "text": [
      "Years: [2004 2005 2006 2007 2008 2009 2010 2011 2012 2013 2014 2015 2016 2017\n",
      " 2018]\n"
     ]
    }
   ],
   "source": [
    "years = np.sort(np.unique(df1.year))\n",
    "print('Years:', years)"
   ]
  },
  {
   "cell_type": "markdown",
   "metadata": {
    "colab_type": "text",
    "id": "UXXc9qvJMnUY"
   },
   "source": [
    "**Published papers per year [Including paper where abstract is missing, since for these, we have a title.]**"
   ]
  },
  {
   "cell_type": "code",
   "execution_count": 0,
   "metadata": {
    "colab": {},
    "colab_type": "code",
    "id": "GHtBvYeaMt7v"
   },
   "outputs": [],
   "source": [
    "year_dist = df.groupby([df['year']]).agg('count')['title']"
   ]
  },
  {
   "cell_type": "code",
   "execution_count": 0,
   "metadata": {
    "colab": {},
    "colab_type": "code",
    "id": "WxFGDBcbONqn"
   },
   "outputs": [],
   "source": [
    "sorted_table = np.c_[years,year_dist]\n",
    "sorted_table = sorted_table[sorted_table[:,1].argsort()]"
   ]
  },
  {
   "cell_type": "code",
   "execution_count": 0,
   "metadata": {
    "colab": {
     "base_uri": "https://localhost:8080/",
     "height": 367
    },
    "colab_type": "code",
    "id": "xeOBJSovNf7y",
    "outputId": "982a2729-49b8-466f-bcc8-75d96bcce313"
   },
   "outputs": [
    {
     "data": {
      "text/plain": [
       "Text(0.5, 1.0, 'Number of articles per year')"
      ]
     },
     "execution_count": 12,
     "metadata": {
      "tags": []
     },
     "output_type": "execute_result"
    },
    {
     "data": {
      "image/png": "[encoded data removed]",
      "text/plain": [
       "<Figure size 360x360 with 1 Axes>"
      ]
     },
     "metadata": {
      "tags": []
     },
     "output_type": "display_data"
    }
   ],
   "source": [
    "# Plot the distribution\n",
    "import matplotlib.pyplot as plt\n",
    "plt.figure(figsize=(5,5))\n",
    "plt.bar(years, year_dist)\n",
    "plt.xlabel('Year')\n",
    "plt.ylabel('Count')\n",
    "plt.title('Number of articles per year')"
   ]
  },
  {
   "cell_type": "markdown",
   "metadata": {
    "colab_type": "text",
    "id": "C9HEBbO2Pa4k"
   },
   "source": [
    "**2010 has maximum number of papers published. Least were published in 2013.**"
   ]
  },
  {
   "cell_type": "code",
   "execution_count": 0,
   "metadata": {
    "colab": {
     "base_uri": "https://localhost:8080/",
     "height": 34
    },
    "colab_type": "code",
    "id": "rLtFIAyHPtLw",
    "outputId": "8892548e-0279-43d2-dc68-21beb9aced9e"
   },
   "outputs": [
    {
     "name": "stdout",
     "output_type": "stream",
     "text": [
      "Mean publications per year: 84.6\n"
     ]
    }
   ],
   "source": [
    "mean_pub = np.mean(year_dist)\n",
    "print('Mean publications per year:', np.round(mean_pub,2))"
   ]
  },
  {
   "cell_type": "markdown",
   "metadata": {
    "colab_type": "text",
    "id": "HFHSUwTAMevA"
   },
   "source": [
    "**Unique authors**\n",
    "\n",
    "Since a publication can have many authors. Count the number of authors per publication as well as overall unique authors and their contributions."
   ]
  },
  {
   "cell_type": "code",
   "execution_count": 0,
   "metadata": {
    "colab": {},
    "colab_type": "code",
    "id": "WJvVo-JyQBxj"
   },
   "outputs": [],
   "source": [
    "def get_unique_authors(df):\n",
    "  authors = df.authors.str.split(',')\n",
    "  result =  [list(map(str.strip, sublist)) for sublist in authors for item in sublist] \n",
    "  flattened_authors = [item for sublist in result for item in sublist]\n",
    "  unique_authors = np.unique(np.array(flattened_authors))\n",
    "  return unique_authors, authors"
   ]
  },
  {
   "cell_type": "code",
   "execution_count": 0,
   "metadata": {
    "colab": {
     "base_uri": "https://localhost:8080/",
     "height": 68
    },
    "colab_type": "code",
    "id": "lo2OtEvmQczV",
    "outputId": "f14873bc-c851-4460-e388-15b1b13fe713"
   },
   "outputs": [
    {
     "name": "stdout",
     "output_type": "stream",
     "text": [
      "['Abdelaziz Bensrhair' 'Abdelaziz Marzak' 'Abdelfettah Feliachi' ...\n",
      " 'Éric Sardet' 'Éric Trupin' 'Étienne-Cuvelier']\n",
      "# of unique authors in all years:  2007\n"
     ]
    }
   ],
   "source": [
    "unique_authors, authors = get_unique_authors(df)\n",
    "print(unique_authors)\n",
    "num_classes = len(unique_authors)\n",
    "print(\"# of unique authors in all years: \", num_classes)"
   ]
  },
  {
   "cell_type": "code",
   "execution_count": 0,
   "metadata": {
    "colab": {
     "base_uri": "https://localhost:8080/",
     "height": 567
    },
    "colab_type": "code",
    "id": "ntRdzsKSQe25",
    "outputId": "34766d99-0f93-4615-f599-91b34d9c7dce"
   },
   "outputs": [
    {
     "name": "stdout",
     "output_type": "stream",
     "text": [
      "year:  2004  authors:  196\n",
      "year:  2005  authors:  212\n",
      "year:  2006  authors:  241\n",
      "year:  2007  authors:  223\n",
      "year:  2008  authors:  265\n",
      "year:  2009  authors:  197\n",
      "year:  2010  authors:  277\n",
      "year:  2011  authors:  243\n",
      "year:  2012  authors:  168\n",
      "year:  2013  authors:  154\n",
      "year:  2014  authors:  227\n",
      "year:  2015  authors:  181\n",
      "year:  2016  authors:  231\n",
      "year:  2017  authors:  199\n",
      "year:  2018  authors:  225\n",
      "Average number of authors per year:  215.93333333333334\n"
     ]
    },
    {
     "data": {
      "image/png": "[encoded data removed]",
      "text/plain": [
       "<Figure size 432x288 with 1 Axes>"
      ]
     },
     "metadata": {
      "tags": []
     },
     "output_type": "display_data"
    }
   ],
   "source": [
    "years = np.unique(df.year)\n",
    "frequency_dic = {}\n",
    "to_be_averaged = 0\n",
    "for year in years:\n",
    "  df_year = df.loc[df.year==year]\n",
    "  uni_auth, auth = get_unique_authors(df_year)\n",
    "  len_unique_authors = len(uni_auth)\n",
    "  print(\"year: \", year, \" authors: \", len_unique_authors)\n",
    "  to_be_averaged += len_unique_authors\n",
    "  frequency_dic[year] = len_unique_authors\n",
    "\n",
    "plt.bar(list(frequency_dic.keys()), list(frequency_dic.values()), align='center')\n",
    "plt.xlabel('Year')\n",
    "plt.ylabel('Count')\n",
    "plt.title('Unique authors per year')\n",
    "plt.savefig(\"authors_dis.png\")\n",
    "print(\"Average number of authors per year: \", to_be_averaged / len(years))"
   ]
  },
  {
   "cell_type": "code",
   "execution_count": 0,
   "metadata": {
    "colab": {},
    "colab_type": "code",
    "id": "fVT0-pL4Qy4v"
   },
   "outputs": [],
   "source": [
    "# Number of authors per paper\n",
    "def get_authors_pp(df):\n",
    "  count = []\n",
    "\n",
    "  for i in range(df.shape[0]):\n",
    "    authors = len(df.authors[i].split(','))\n",
    "    count.append(authors)\n",
    "  return count"
   ]
  },
  {
   "cell_type": "code",
   "execution_count": 0,
   "metadata": {
    "colab": {
     "base_uri": "https://localhost:8080/",
     "height": 34
    },
    "colab_type": "code",
    "id": "4sXXhRxARMMu",
    "outputId": "07de05ce-e29a-4dea-9320-99310a7d601c"
   },
   "outputs": [
    {
     "name": "stdout",
     "output_type": "stream",
     "text": [
      "Authors per paper (mean over all years): 2.9472025216706066\n"
     ]
    }
   ],
   "source": [
    "authors_pp = get_authors_pp(df)\n",
    "print('Authors per paper (mean over all years):', np.mean(authors_pp))"
   ]
  },
  {
   "cell_type": "code",
   "execution_count": 0,
   "metadata": {
    "colab": {},
    "colab_type": "code",
    "id": "LEbk0izHSKOV"
   },
   "outputs": [],
   "source": [
    "# Mean authors per paper by year\n",
    "def get_authors_ppy(df,years):\n",
    "  count_ = []\n",
    "  mean_ = []\n",
    "  for k in years:\n",
    "    df_year = df[df['year']==k]\n",
    "    count = 0\n",
    "    for i in range(df_year.shape[0]):\n",
    "      authors = len(df_year.authors.iloc[i].split(','))\n",
    "      count += authors\n",
    "    mean_authors_pp_k = count/df_year.shape[0]\n",
    "    count_.append(mean_authors_pp_k)\n",
    "\n",
    "  return count_"
   ]
  },
  {
   "cell_type": "code",
   "execution_count": 0,
   "metadata": {
    "colab": {
     "base_uri": "https://localhost:8080/",
     "height": 329
    },
    "colab_type": "code",
    "id": "Me6FxRUFSfk6",
    "outputId": "13455a5c-28f8-409e-a7c0-53b52f9a7660"
   },
   "outputs": [
    {
     "name": "stdout",
     "output_type": "stream",
     "text": [
      "Average number of authors per paper: [2.73 2.67 2.73 2.74 2.9  2.91 3.03 2.91 2.85 3.12 3.05 2.94 3.25 3.15\n",
      " 3.44]\n"
     ]
    },
    {
     "data": {
      "image/png": "[encoded data removed]",
      "text/plain": [
       "<Figure size 432x288 with 1 Axes>"
      ]
     },
     "metadata": {
      "tags": []
     },
     "output_type": "display_data"
    }
   ],
   "source": [
    "authors_ppy = get_authors_ppy(df,years)\n",
    "print('Average number of authors per paper:', np.round(authors_ppy,2))\n",
    "\n",
    "plt.scatter(authors_ppy,years)\n",
    "plt.xlabel('Year')\n",
    "plt.ylabel('Count')\n",
    "plt.title('Average number of authors per paper')\n",
    "plt.savefig(\"authors_dis.png\")"
   ]
  },
  {
   "cell_type": "markdown",
   "metadata": {
    "colab_type": "text",
    "id": "gOkPG8Y0VkNb"
   },
   "source": [
    "**Number of authors per year seem to be growing. In 2004, it was 2.73 per paper, in 2018, it's close to 3.5**"
   ]
  },
  {
   "cell_type": "markdown",
   "metadata": {
    "colab_type": "text",
    "id": "lU2VkCaPVtf_"
   },
   "source": [
    "Since this indicates more collaboration, we can look into correlations between authors and collaboration among authors."
   ]
  },
  {
   "cell_type": "code",
   "execution_count": 0,
   "metadata": {
    "colab": {},
    "colab_type": "code",
    "id": "ozGe5MFiWVPn"
   },
   "outputs": [],
   "source": [
    "import keras\n",
    "def one_hot_authors(row, encoder, num_classes):\n",
    "  row = list(map(str.strip, row))\n",
    "  encoding = encoder.transform(row)\n",
    "  one_hot =  keras.utils.to_categorical(encoding, num_classes= num_classes)\n",
    "  result = np.sum(one_hot,axis=0)\n",
    "  # result = pd.DataFrame(result)\n",
    "  return result"
   ]
  },
  {
   "cell_type": "code",
   "execution_count": 0,
   "metadata": {
    "colab": {
     "base_uri": "https://localhost:8080/",
     "height": 34
    },
    "colab_type": "code",
    "id": "swDuLSjmWb78",
    "outputId": "bb769b54-c8a6-4b75-82c5-2425b448d625"
   },
   "outputs": [
    {
     "data": {
      "text/plain": [
       "LabelEncoder()"
      ]
     },
     "execution_count": 118,
     "metadata": {
      "tags": []
     },
     "output_type": "execute_result"
    }
   ],
   "source": [
    "from sklearn import preprocessing\n",
    "\n",
    "le = preprocessing.LabelEncoder()\n",
    "le.fit(unique_authors)"
   ]
  },
  {
   "cell_type": "code",
   "execution_count": 0,
   "metadata": {
    "colab": {},
    "colab_type": "code",
    "id": "RR5Bg0DqWhlU"
   },
   "outputs": [],
   "source": [
    "encoding_matrx = []\n",
    "for items in authors.iteritems(): \n",
    "    res =  one_hot_authors(items[1], le, num_classes)\n",
    "    encoding_matrx.append(res)\n",
    "\n",
    "encoding_matrx = np.array(encoding_matrx)\n",
    "\n",
    "columns_name = [i for i in range(num_classes)]\n",
    "columns_name = le.inverse_transform(columns_name)\n",
    "df_encoded_as_columns = pd.DataFrame(encoding_matrx, columns= columns_name)\n",
    "encoded_dataset = pd.concat([df, df_encoded_as_columns], axis=1)\n",
    "encoded_dataset.to_csv(\"encoded_dataset.csv\",  encoding='utf-8')"
   ]
  },
  {
   "cell_type": "code",
   "execution_count": 0,
   "metadata": {
    "colab": {
     "base_uri": "https://localhost:8080/",
     "height": 1000
    },
    "colab_type": "code",
    "id": "5y46_19SWjjz",
    "outputId": "67fa6c02-8d1e-4967-cbbb-4973c44a3d8d"
   },
   "outputs": [
    {
     "name": "stdout",
     "output_type": "stream",
     "text": [
      "(1269, 584)\n",
      "(1269, 198)\n",
      "(1269, 99)\n",
      "(1269, 56)\n",
      "(1269, 37)\n",
      "(1269, 29)\n",
      "(1269, 19)\n",
      "(1269, 11)\n",
      "(1269, 6)\n"
     ]
    },
    {
     "data": {
      "image/png": "[encoded data removed]",
      "text/plain": [
       "<Figure size 1440x1440 with 18 Axes>"
      ]
     },
     "metadata": {
      "tags": []
     },
     "output_type": "display_data"
    }
   ],
   "source": [
    "from matplotlib import cm as cm\n",
    "\n",
    "threshold_frequency_dic = {}\n",
    "# fig = plt.figure()\n",
    "fig = plt.figure(figsize=(20, 20))\n",
    "for i in range (0, 9):\n",
    "  df_authors_filtered = df_encoded_as_columns.loc[:, (df_encoded_as_columns.sum(axis=0) >= ((i+1)*2) )]\n",
    "  print(df_authors_filtered.shape)\n",
    "  index = ((i+1)*2)\n",
    "  threshold_frequency_dic[index] =df_authors_filtered.shape[1]\n",
    "  c = df_authors_filtered.corr().abs()\n",
    "  # ax1 = subplot(4,1,i)\n",
    "  ax1 = fig.add_subplot(3,3,i+1)\n",
    "  ax1.title.set_text(\"more than \" + str(((i+1)*2)) + \" articles\")\n",
    "  cmap = cm.get_cmap('jet', 30)\n",
    "  cax = ax1.imshow(c, interpolation=\"nearest\", cmap=cmap)\n",
    "  ax1.grid(True)\n",
    "  # Add colorbar, make sure to specify tick locations to match desired ticklabels\n",
    "  fig.colorbar(cax, ticks=[.75,.8,.85,.90,.95,1])\n",
    "  # plt.show()\n",
    "\n",
    "plt.savefig(\"coorelation.png\")"
   ]
  },
  {
   "cell_type": "code",
   "execution_count": 0,
   "metadata": {
    "colab": {
     "base_uri": "https://localhost:8080/",
     "height": 316
    },
    "colab_type": "code",
    "id": "FQ76E3SsW1Vw",
    "outputId": "0c50eeff-b4de-4009-e30a-13613cd1f5c0"
   },
   "outputs": [
    {
     "data": {
      "image/png": "[encoded data removed]",
      "text/plain": [
       "<Figure size 432x288 with 1 Axes>"
      ]
     },
     "metadata": {
      "tags": []
     },
     "output_type": "display_data"
    }
   ],
   "source": [
    "fig = plt.figure()\n",
    "threshold_frequency_dic = {}\n",
    "for i in range (0, 20):\n",
    "  df_authors_filtered = df_encoded_as_columns.loc[:, (df_encoded_as_columns.sum(axis=0) >= i+1)]\n",
    "  threshold_frequency_dic[i] =df_authors_filtered.shape[1]\n",
    "\n",
    "plt.bar(list(threshold_frequency_dic.keys()), list(threshold_frequency_dic.values()),)\n",
    "# plt.show()\n",
    "fig.suptitle('Cumulative Sum of # Authors', fontsize=15)\n",
    "plt.xlabel('threshold articles', fontsize=18)\n",
    "plt.ylabel('# of authors', fontsize=16)\n",
    "plt.savefig(\"cumsum_authors.png\")"
   ]
  },
  {
   "cell_type": "code",
   "execution_count": 0,
   "metadata": {
    "colab": {
     "base_uri": "https://localhost:8080/",
     "height": 357
    },
    "colab_type": "code",
    "id": "4ybSyZ2hW72t",
    "outputId": "fa1a4b70-6205-4034-cd5d-f80a734ffc13"
   },
   "outputs": [
    {
     "data": {
      "text/plain": [
       "{0: 2007,\n",
       " 1: 584,\n",
       " 2: 328,\n",
       " 3: 198,\n",
       " 4: 139,\n",
       " 5: 99,\n",
       " 6: 73,\n",
       " 7: 56,\n",
       " 8: 45,\n",
       " 9: 37,\n",
       " 10: 32,\n",
       " 11: 29,\n",
       " 12: 23,\n",
       " 13: 19,\n",
       " 14: 12,\n",
       " 15: 11,\n",
       " 16: 9,\n",
       " 17: 6,\n",
       " 18: 4,\n",
       " 19: 4}"
      ]
     },
     "execution_count": 122,
     "metadata": {
      "tags": []
     },
     "output_type": "execute_result"
    }
   ],
   "source": [
    "threshold_frequency_dic"
   ]
  },
  {
   "cell_type": "code",
   "execution_count": 0,
   "metadata": {
    "colab": {
     "base_uri": "https://localhost:8080/",
     "height": 426
    },
    "colab_type": "code",
    "id": "CrE6s9AvW-z4",
    "outputId": "18845bbd-ce5f-46be-dfcc-a49ea4b6ab3d"
   },
   "outputs": [
    {
     "data": {
      "image/png": "[encoded data removed]",
      "text/plain": [
       "<Figure size 720x360 with 2 Axes>"
      ]
     },
     "metadata": {
      "tags": []
     },
     "output_type": "display_data"
    }
   ],
   "source": [
    "df_authors_filtered = df_encoded_as_columns.loc[:, (df_encoded_as_columns.sum(axis=0) == 8 )]\n",
    "c = df_authors_filtered.corr().abs()\n",
    "\n",
    "import seaborn as sns\n",
    "\n",
    "sns.set(rc={'figure.figsize':(10,5)})\n",
    "corr = c\n",
    "sns_plot = sns.heatmap(corr,\n",
    "            xticklabels=corr.columns.values,\n",
    "            yticklabels=corr.columns.values)\n",
    "fig = sns_plot.get_figure()\n",
    "fig.savefig(\"output.png\")"
   ]
  },
  {
   "cell_type": "code",
   "execution_count": 0,
   "metadata": {
    "colab": {
     "base_uri": "https://localhost:8080/",
     "height": 34
    },
    "colab_type": "code",
    "id": "tpuJfsNLXA9A",
    "outputId": "326a580b-7ae9-49b5-9c57-5bc10d70ea5d"
   },
   "outputs": [
    {
     "name": "stdout",
     "output_type": "stream",
     "text": [
      "Top Correlation\n"
     ]
    }
   ],
   "source": [
    "def get_duplications(df):\n",
    "    to_delete = set()\n",
    "    cols = df.columns\n",
    "    for i in range(0, df.shape[1]):\n",
    "        for j in range(0, i+1):\n",
    "            to_delete.add((cols[i], cols[j]))\n",
    "    return to_delete\n",
    "\n",
    "def correlation_ordered(df):\n",
    "    authors_corr = df.corr().abs().unstack()\n",
    "    labels_to_drop = get_duplications(df)\n",
    "    authors_corr = authors_corr.drop(labels=labels_to_drop).sort_values(ascending=False)\n",
    "    return authors_corr\n",
    "print(\"Top Correlation\")\n",
    "top_correlation = correlation_ordered(df_encoded_as_columns)"
   ]
  },
  {
   "cell_type": "code",
   "execution_count": 0,
   "metadata": {
    "colab": {
     "base_uri": "https://localhost:8080/",
     "height": 102
    },
    "colab_type": "code",
    "id": "nyTNyuB4XGTF",
    "outputId": "998637a8-0f02-4c42-9fa1-43b46a16959a"
   },
   "outputs": [
    {
     "data": {
      "text/plain": [
       "Bruno Bouzy        Guillaume Chaslot    1.0\n",
       "Lyes Benamsili     Philippe Muller      1.0\n",
       "Enric Ripoll       Tomàs Aluja-Banet    1.0\n",
       "François Scharffe  Oscar Corcho         1.0\n",
       "dtype: float64"
      ]
     },
     "execution_count": 125,
     "metadata": {
      "tags": []
     },
     "output_type": "execute_result"
    }
   ],
   "source": [
    "top_correlation[:4]"
   ]
  },
  {
   "cell_type": "code",
   "execution_count": 0,
   "metadata": {
    "colab": {
     "base_uri": "https://localhost:8080/",
     "height": 71
    },
    "colab_type": "code",
    "id": "VsVRisxHXIEp",
    "outputId": "aba7eff7-5906-4af6-f04e-94eccad4531e"
   },
   "outputs": [
    {
     "name": "stderr",
     "output_type": "stream",
     "text": [
      "/usr/local/lib/python3.6/dist-packages/ipykernel_launcher.py:1: FutureWarning: The signature of `Series.to_csv` was aligned to that of `DataFrame.to_csv`, and argument 'header' will change its default value from False to True: please pass an explicit value to suppress this warning.\n",
      "  \"\"\"Entry point for launching an IPython kernel.\n"
     ]
    }
   ],
   "source": [
    "top_correlation.to_csv(\"correlation.csv\")"
   ]
  },
  {
   "cell_type": "code",
   "execution_count": 0,
   "metadata": {
    "colab": {
     "base_uri": "https://localhost:8080/",
     "height": 884
    },
    "colab_type": "code",
    "id": "PeBNFqQdXKPt",
    "outputId": "5eb1740e-c0ef-4776-b5c9-65ab669e695b"
   },
   "outputs": [
    {
     "name": "stdout",
     "output_type": "stream",
     "text": [
      "                        Author_1                    Author_2      Corr\n",
      "1009              Erick Stattner             Martine Collard  0.925454\n",
      "1010              Brigitte Safar             Chantal Reynaud  0.894074\n",
      "1011            Frédéric Flouvat      Nazha Selmaoui-Folcher  0.869212\n",
      "1012             Badre Belabbess                Olivier Curé  0.865683\n",
      "1013                 Jérémy Lhez                Olivier Curé  0.865683\n",
      "1014        Jean-Benoît Griesner           Talel Abdesssalem  0.865683\n",
      "1015               Hubert Naacke        Jean-Benoît Griesner  0.865683\n",
      "1016         Chantal Soulé-Dupuy  Nathalie Vallès-Parlangeau  0.865683\n",
      "1017             Claude Pasquier               Jérémy Sanhes  0.865683\n",
      "1018               André Péninou              Florence Sedes  0.865683\n",
      "1019             Alban Mancheron            Lionel Vinceslas  0.865683\n",
      "1020            Thierry Artières           Trinh Minh Tri Do  0.865683\n",
      "1021            Alexandre Aussem              Marilys Corbex  0.865683\n",
      "1022                 Marc Le Goc              Nabil Benayadi  0.865683\n",
      "1023                 Marc Le Goc             Philippe Bouché  0.865683\n",
      "1024            Abdelmalek Toumi                Ali Khenchaf  0.844485\n",
      "1025                Franck Ravat              Gilles Zurfluh  0.816174\n",
      "1026               Danièle Hérin                Lylia Abrouk  0.816174\n",
      "1027            Céline Rouveirol               Mohamed Elati  0.816174\n",
      "1028          Adina Magda Florea            Vincent Philippé  0.816174\n",
      "1029                Alain Berger               Pierre Mariot  0.816174\n",
      "1030           Adeline Nazarenko              Sylvie Szulman  0.816174\n",
      "1031             Laurent Tessier                Thomas Piton  0.816174\n",
      "1032                Gaëtan Blain                Thomas Piton  0.816174\n",
      "1033             Ammar Mechouche          Sébastien Mustière  0.816174\n",
      "1034               Fabien Gandon              Freddy Limpens  0.816174\n",
      "1035            Guillaume Husson           Nicolas Delaforge  0.816174\n",
      "1036           Alexandre Termier        Benjamin Négrevergne  0.816174\n",
      "1037             Nathalie Abadie          Sébastien Mustière  0.816174\n",
      "1038                Leila Khouas           Mohamed Dermouche  0.816174\n",
      "1039     Chiheb-Eddine Ben N’Cir              Nadia Essoussi  0.816174\n",
      "1040          Coriane Nana Jipmo           Gianluca Quercini  0.816174\n",
      "1041               Anthony Perez               Nicolas Dugué  0.816174\n",
      "1042            Mohammad Ghoniem               Nicolas Médoc  0.816174\n",
      "1043             Mariem Mahfoudh         Michel Hassenforder  0.816174\n",
      "1044               Laurent Thiry         Michel Hassenforder  0.816174\n",
      "1045  Nathalie Vallès-Parlangeau             William Raynaut  0.816174\n",
      "1046               Ibrahim Louhi     Lydia Boudjeloud-Assala  0.816174\n",
      "1047                Pierre Maret       Pierre-René Lhérisson  0.816174\n",
      "1048          Antoine Zimmermann           Maxime Lefrançois  0.816174\n",
      "1049                 Jérémy Lhez                Musab Bairat  0.816174\n",
      "1050             Badre Belabbess                Musab Bairat  0.816174\n",
      "1051          Jean-Emile Symphor            Lionel Vinceslas  0.815851\n",
      "1052           Gilbert Ritschard             Matthias Studer  0.815201\n",
      "1053            Alexis Gabadinho           Gilbert Ritschard  0.815201\n",
      "1054           Gilbert Ritschard           Nicolas S. Müller  0.815201\n",
      "1055             Chabane Djeraba              Thierry Urruty  0.800619\n",
      "1056                David Genest            Stéphane Loiseau  0.799209\n",
      "1057           Arnaud Giacometti               Arnaud Soulet  0.787505\n",
      "1058                   Inès Saad             Sarra Bouzayane  0.773985\n"
     ]
    }
   ],
   "source": [
    "# df_top_correlation = pd.DataFrame(top_correlation)\n",
    "df_top_correlation = top_correlation.reset_index()\n",
    "df_top_correlation = pd.DataFrame(df_top_correlation)\n",
    "df_top_correlation.columns = ['Author_1', 'Author_2', 'Corr']\n",
    "print(df_top_correlation.loc[df_top_correlation['Corr'] < 1] [:50])"
   ]
  },
  {
   "cell_type": "markdown",
   "metadata": {
    "colab_type": "text",
    "id": "vTUaWmlicjij"
   },
   "source": [
    "**Since the correlations among many authors is large. We proceed to create a co-authorship network.** For this we use R since the visualizations seems better in R [Script and saved networks are in the folder 'coauthorNetworks']."
   ]
  }
 ],
 "metadata": {
  "colab": {
   "collapsed_sections": [],
   "name": "ExploratoryAnalysisOnAuthorsPartI.ipynb",
   "provenance": []
  },
  "kernelspec": {
   "display_name": "Python 3",
   "language": "python",
   "name": "python3"
  },
  "language_info": {
   "codemirror_mode": {
    "name": "ipython",
    "version": 3
   },
   "file_extension": ".py",
   "mimetype": "text/x-python",
   "name": "python",
   "nbconvert_exporter": "python",
   "pygments_lexer": "ipython3",
   "version": "3.7.4"
  }
 },
 "nbformat": 4,
 "nbformat_minor": 1
}
